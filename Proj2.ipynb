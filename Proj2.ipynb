{
 "cells": [
  {
   "cell_type": "code",
   "execution_count": 1,
   "metadata": {},
   "outputs": [],
   "source": [
    "import pandas as pd\n",
    "import seaborn as sns\n",
    "import matplotlib.pyplot as plt\n",
    "import numpy as np"
   ]
  },
  {
   "cell_type": "code",
   "execution_count": 2,
   "metadata": {},
   "outputs": [],
   "source": [
    "df1=pd.read_csv('C:/Users/Checkout/Desktop/pp_gas_emission/gt_2011.csv')\n",
    "df2=pd.read_csv('C:/Users/Checkout/Desktop/pp_gas_emission/gt_2012.csv')\n",
    "df3=pd.read_csv('C:/Users/Checkout/Desktop/pp_gas_emission/gt_2013.csv')\n",
    "df4=pd.read_csv('C:/Users/Checkout/Desktop/pp_gas_emission/gt_2014.csv')\n",
    "df5=pd.read_csv('C:/Users/Checkout/Desktop/pp_gas_emission/gt_2015.csv')"
   ]
  },
  {
   "cell_type": "code",
   "execution_count": 3,
   "metadata": {},
   "outputs": [],
   "source": [
    "train = pd.concat([df1,df2,df3])\n",
    "test = pd.concat([df4,df5])"
   ]
  },
  {
   "cell_type": "code",
   "execution_count": 4,
   "metadata": {
    "scrolled": false
   },
   "outputs": [
    {
     "data": {
      "text/html": [
       "<div>\n",
       "<style scoped>\n",
       "    .dataframe tbody tr th:only-of-type {\n",
       "        vertical-align: middle;\n",
       "    }\n",
       "\n",
       "    .dataframe tbody tr th {\n",
       "        vertical-align: top;\n",
       "    }\n",
       "\n",
       "    .dataframe thead th {\n",
       "        text-align: right;\n",
       "    }\n",
       "</style>\n",
       "<table border=\"1\" class=\"dataframe\">\n",
       "  <thead>\n",
       "    <tr style=\"text-align: right;\">\n",
       "      <th></th>\n",
       "      <th>AT</th>\n",
       "      <th>AP</th>\n",
       "      <th>AH</th>\n",
       "      <th>AFDP</th>\n",
       "      <th>GTEP</th>\n",
       "      <th>TIT</th>\n",
       "      <th>TAT</th>\n",
       "      <th>TEY</th>\n",
       "      <th>CDP</th>\n",
       "      <th>CO</th>\n",
       "      <th>NOX</th>\n",
       "    </tr>\n",
       "  </thead>\n",
       "  <tbody>\n",
       "    <tr>\n",
       "      <th>0</th>\n",
       "      <td>4.5878</td>\n",
       "      <td>1018.7</td>\n",
       "      <td>83.675</td>\n",
       "      <td>3.5758</td>\n",
       "      <td>23.979</td>\n",
       "      <td>1086.2</td>\n",
       "      <td>549.83</td>\n",
       "      <td>134.67</td>\n",
       "      <td>11.898</td>\n",
       "      <td>0.32663</td>\n",
       "      <td>81.952</td>\n",
       "    </tr>\n",
       "    <tr>\n",
       "      <th>1</th>\n",
       "      <td>4.2932</td>\n",
       "      <td>1018.3</td>\n",
       "      <td>84.235</td>\n",
       "      <td>3.5709</td>\n",
       "      <td>23.951</td>\n",
       "      <td>1086.1</td>\n",
       "      <td>550.05</td>\n",
       "      <td>134.67</td>\n",
       "      <td>11.892</td>\n",
       "      <td>0.44784</td>\n",
       "      <td>82.377</td>\n",
       "    </tr>\n",
       "    <tr>\n",
       "      <th>2</th>\n",
       "      <td>3.9045</td>\n",
       "      <td>1018.4</td>\n",
       "      <td>84.858</td>\n",
       "      <td>3.5828</td>\n",
       "      <td>23.990</td>\n",
       "      <td>1086.5</td>\n",
       "      <td>550.19</td>\n",
       "      <td>135.10</td>\n",
       "      <td>12.042</td>\n",
       "      <td>0.45144</td>\n",
       "      <td>83.776</td>\n",
       "    </tr>\n",
       "    <tr>\n",
       "      <th>3</th>\n",
       "      <td>3.7436</td>\n",
       "      <td>1018.3</td>\n",
       "      <td>85.434</td>\n",
       "      <td>3.5808</td>\n",
       "      <td>23.911</td>\n",
       "      <td>1086.5</td>\n",
       "      <td>550.17</td>\n",
       "      <td>135.03</td>\n",
       "      <td>11.990</td>\n",
       "      <td>0.23107</td>\n",
       "      <td>82.505</td>\n",
       "    </tr>\n",
       "    <tr>\n",
       "      <th>4</th>\n",
       "      <td>3.7516</td>\n",
       "      <td>1017.8</td>\n",
       "      <td>85.182</td>\n",
       "      <td>3.5781</td>\n",
       "      <td>23.917</td>\n",
       "      <td>1085.9</td>\n",
       "      <td>550.00</td>\n",
       "      <td>134.67</td>\n",
       "      <td>11.910</td>\n",
       "      <td>0.26747</td>\n",
       "      <td>82.028</td>\n",
       "    </tr>\n",
       "    <tr>\n",
       "      <th>...</th>\n",
       "      <td>...</td>\n",
       "      <td>...</td>\n",
       "      <td>...</td>\n",
       "      <td>...</td>\n",
       "      <td>...</td>\n",
       "      <td>...</td>\n",
       "      <td>...</td>\n",
       "      <td>...</td>\n",
       "      <td>...</td>\n",
       "      <td>...</td>\n",
       "      <td>...</td>\n",
       "    </tr>\n",
       "    <tr>\n",
       "      <th>7147</th>\n",
       "      <td>4.8631</td>\n",
       "      <td>1027.0</td>\n",
       "      <td>81.084</td>\n",
       "      <td>4.2825</td>\n",
       "      <td>34.045</td>\n",
       "      <td>1100.0</td>\n",
       "      <td>529.98</td>\n",
       "      <td>168.38</td>\n",
       "      <td>14.290</td>\n",
       "      <td>1.25380</td>\n",
       "      <td>78.397</td>\n",
       "    </tr>\n",
       "    <tr>\n",
       "      <th>7148</th>\n",
       "      <td>4.5173</td>\n",
       "      <td>1027.4</td>\n",
       "      <td>80.813</td>\n",
       "      <td>4.2481</td>\n",
       "      <td>33.904</td>\n",
       "      <td>1100.1</td>\n",
       "      <td>530.47</td>\n",
       "      <td>168.07</td>\n",
       "      <td>14.344</td>\n",
       "      <td>1.08080</td>\n",
       "      <td>78.251</td>\n",
       "    </tr>\n",
       "    <tr>\n",
       "      <th>7149</th>\n",
       "      <td>4.2717</td>\n",
       "      <td>1027.9</td>\n",
       "      <td>80.380</td>\n",
       "      <td>4.2817</td>\n",
       "      <td>34.165</td>\n",
       "      <td>1099.9</td>\n",
       "      <td>529.56</td>\n",
       "      <td>168.55</td>\n",
       "      <td>14.395</td>\n",
       "      <td>1.04720</td>\n",
       "      <td>77.269</td>\n",
       "    </tr>\n",
       "    <tr>\n",
       "      <th>7150</th>\n",
       "      <td>4.0853</td>\n",
       "      <td>1028.6</td>\n",
       "      <td>78.907</td>\n",
       "      <td>4.2313</td>\n",
       "      <td>33.802</td>\n",
       "      <td>1100.1</td>\n",
       "      <td>530.61</td>\n",
       "      <td>167.98</td>\n",
       "      <td>14.343</td>\n",
       "      <td>1.08750</td>\n",
       "      <td>77.985</td>\n",
       "    </tr>\n",
       "    <tr>\n",
       "      <th>7151</th>\n",
       "      <td>4.2148</td>\n",
       "      <td>1029.4</td>\n",
       "      <td>70.679</td>\n",
       "      <td>4.2049</td>\n",
       "      <td>33.768</td>\n",
       "      <td>1100.0</td>\n",
       "      <td>530.97</td>\n",
       "      <td>167.30</td>\n",
       "      <td>14.291</td>\n",
       "      <td>1.13370</td>\n",
       "      <td>78.950</td>\n",
       "    </tr>\n",
       "  </tbody>\n",
       "</table>\n",
       "<p>22191 rows × 11 columns</p>\n",
       "</div>"
      ],
      "text/plain": [
       "          AT      AP      AH    AFDP    GTEP     TIT     TAT     TEY     CDP  \\\n",
       "0     4.5878  1018.7  83.675  3.5758  23.979  1086.2  549.83  134.67  11.898   \n",
       "1     4.2932  1018.3  84.235  3.5709  23.951  1086.1  550.05  134.67  11.892   \n",
       "2     3.9045  1018.4  84.858  3.5828  23.990  1086.5  550.19  135.10  12.042   \n",
       "3     3.7436  1018.3  85.434  3.5808  23.911  1086.5  550.17  135.03  11.990   \n",
       "4     3.7516  1017.8  85.182  3.5781  23.917  1085.9  550.00  134.67  11.910   \n",
       "...      ...     ...     ...     ...     ...     ...     ...     ...     ...   \n",
       "7147  4.8631  1027.0  81.084  4.2825  34.045  1100.0  529.98  168.38  14.290   \n",
       "7148  4.5173  1027.4  80.813  4.2481  33.904  1100.1  530.47  168.07  14.344   \n",
       "7149  4.2717  1027.9  80.380  4.2817  34.165  1099.9  529.56  168.55  14.395   \n",
       "7150  4.0853  1028.6  78.907  4.2313  33.802  1100.1  530.61  167.98  14.343   \n",
       "7151  4.2148  1029.4  70.679  4.2049  33.768  1100.0  530.97  167.30  14.291   \n",
       "\n",
       "           CO     NOX  \n",
       "0     0.32663  81.952  \n",
       "1     0.44784  82.377  \n",
       "2     0.45144  83.776  \n",
       "3     0.23107  82.505  \n",
       "4     0.26747  82.028  \n",
       "...       ...     ...  \n",
       "7147  1.25380  78.397  \n",
       "7148  1.08080  78.251  \n",
       "7149  1.04720  77.269  \n",
       "7150  1.08750  77.985  \n",
       "7151  1.13370  78.950  \n",
       "\n",
       "[22191 rows x 11 columns]"
      ]
     },
     "execution_count": 4,
     "metadata": {},
     "output_type": "execute_result"
    }
   ],
   "source": [
    "train"
   ]
  },
  {
   "cell_type": "code",
   "execution_count": 5,
   "metadata": {
    "scrolled": true
   },
   "outputs": [
    {
     "data": {
      "text/html": [
       "<div>\n",
       "<style scoped>\n",
       "    .dataframe tbody tr th:only-of-type {\n",
       "        vertical-align: middle;\n",
       "    }\n",
       "\n",
       "    .dataframe tbody tr th {\n",
       "        vertical-align: top;\n",
       "    }\n",
       "\n",
       "    .dataframe thead th {\n",
       "        text-align: right;\n",
       "    }\n",
       "</style>\n",
       "<table border=\"1\" class=\"dataframe\">\n",
       "  <thead>\n",
       "    <tr style=\"text-align: right;\">\n",
       "      <th></th>\n",
       "      <th>AT</th>\n",
       "      <th>AP</th>\n",
       "      <th>AH</th>\n",
       "      <th>AFDP</th>\n",
       "      <th>GTEP</th>\n",
       "      <th>TIT</th>\n",
       "      <th>TAT</th>\n",
       "      <th>TEY</th>\n",
       "      <th>CDP</th>\n",
       "      <th>CO</th>\n",
       "      <th>NOX</th>\n",
       "    </tr>\n",
       "  </thead>\n",
       "  <tbody>\n",
       "    <tr>\n",
       "      <th>0</th>\n",
       "      <td>4.5878</td>\n",
       "      <td>1018.7</td>\n",
       "      <td>83.675</td>\n",
       "      <td>3.5758</td>\n",
       "      <td>23.979</td>\n",
       "      <td>1086.2</td>\n",
       "      <td>549.83</td>\n",
       "      <td>134.67</td>\n",
       "      <td>11.898</td>\n",
       "      <td>0.32663</td>\n",
       "      <td>81.952</td>\n",
       "    </tr>\n",
       "    <tr>\n",
       "      <th>1</th>\n",
       "      <td>4.2932</td>\n",
       "      <td>1018.3</td>\n",
       "      <td>84.235</td>\n",
       "      <td>3.5709</td>\n",
       "      <td>23.951</td>\n",
       "      <td>1086.1</td>\n",
       "      <td>550.05</td>\n",
       "      <td>134.67</td>\n",
       "      <td>11.892</td>\n",
       "      <td>0.44784</td>\n",
       "      <td>82.377</td>\n",
       "    </tr>\n",
       "    <tr>\n",
       "      <th>2</th>\n",
       "      <td>3.9045</td>\n",
       "      <td>1018.4</td>\n",
       "      <td>84.858</td>\n",
       "      <td>3.5828</td>\n",
       "      <td>23.990</td>\n",
       "      <td>1086.5</td>\n",
       "      <td>550.19</td>\n",
       "      <td>135.10</td>\n",
       "      <td>12.042</td>\n",
       "      <td>0.45144</td>\n",
       "      <td>83.776</td>\n",
       "    </tr>\n",
       "    <tr>\n",
       "      <th>3</th>\n",
       "      <td>3.7436</td>\n",
       "      <td>1018.3</td>\n",
       "      <td>85.434</td>\n",
       "      <td>3.5808</td>\n",
       "      <td>23.911</td>\n",
       "      <td>1086.5</td>\n",
       "      <td>550.17</td>\n",
       "      <td>135.03</td>\n",
       "      <td>11.990</td>\n",
       "      <td>0.23107</td>\n",
       "      <td>82.505</td>\n",
       "    </tr>\n",
       "    <tr>\n",
       "      <th>4</th>\n",
       "      <td>3.7516</td>\n",
       "      <td>1017.8</td>\n",
       "      <td>85.182</td>\n",
       "      <td>3.5781</td>\n",
       "      <td>23.917</td>\n",
       "      <td>1085.9</td>\n",
       "      <td>550.00</td>\n",
       "      <td>134.67</td>\n",
       "      <td>11.910</td>\n",
       "      <td>0.26747</td>\n",
       "      <td>82.028</td>\n",
       "    </tr>\n",
       "  </tbody>\n",
       "</table>\n",
       "</div>"
      ],
      "text/plain": [
       "       AT      AP      AH    AFDP    GTEP     TIT     TAT     TEY     CDP  \\\n",
       "0  4.5878  1018.7  83.675  3.5758  23.979  1086.2  549.83  134.67  11.898   \n",
       "1  4.2932  1018.3  84.235  3.5709  23.951  1086.1  550.05  134.67  11.892   \n",
       "2  3.9045  1018.4  84.858  3.5828  23.990  1086.5  550.19  135.10  12.042   \n",
       "3  3.7436  1018.3  85.434  3.5808  23.911  1086.5  550.17  135.03  11.990   \n",
       "4  3.7516  1017.8  85.182  3.5781  23.917  1085.9  550.00  134.67  11.910   \n",
       "\n",
       "        CO     NOX  \n",
       "0  0.32663  81.952  \n",
       "1  0.44784  82.377  \n",
       "2  0.45144  83.776  \n",
       "3  0.23107  82.505  \n",
       "4  0.26747  82.028  "
      ]
     },
     "execution_count": 5,
     "metadata": {},
     "output_type": "execute_result"
    }
   ],
   "source": [
    "train.head()"
   ]
  },
  {
   "cell_type": "code",
   "execution_count": 6,
   "metadata": {},
   "outputs": [
    {
     "name": "stdout",
     "output_type": "stream",
     "text": [
      "<class 'pandas.core.frame.DataFrame'>\n",
      "Int64Index: 22191 entries, 0 to 7151\n",
      "Data columns (total 11 columns):\n",
      " #   Column  Non-Null Count  Dtype  \n",
      "---  ------  --------------  -----  \n",
      " 0   AT      22191 non-null  float64\n",
      " 1   AP      22191 non-null  float64\n",
      " 2   AH      22191 non-null  float64\n",
      " 3   AFDP    22191 non-null  float64\n",
      " 4   GTEP    22191 non-null  float64\n",
      " 5   TIT     22191 non-null  float64\n",
      " 6   TAT     22191 non-null  float64\n",
      " 7   TEY     22191 non-null  float64\n",
      " 8   CDP     22191 non-null  float64\n",
      " 9   CO      22191 non-null  float64\n",
      " 10  NOX     22191 non-null  float64\n",
      "dtypes: float64(11)\n",
      "memory usage: 2.0 MB\n"
     ]
    }
   ],
   "source": [
    "train.info()"
   ]
  },
  {
   "cell_type": "code",
   "execution_count": 7,
   "metadata": {},
   "outputs": [
    {
     "data": {
      "text/html": [
       "<div>\n",
       "<style scoped>\n",
       "    .dataframe tbody tr th:only-of-type {\n",
       "        vertical-align: middle;\n",
       "    }\n",
       "\n",
       "    .dataframe tbody tr th {\n",
       "        vertical-align: top;\n",
       "    }\n",
       "\n",
       "    .dataframe thead th {\n",
       "        text-align: right;\n",
       "    }\n",
       "</style>\n",
       "<table border=\"1\" class=\"dataframe\">\n",
       "  <thead>\n",
       "    <tr style=\"text-align: right;\">\n",
       "      <th></th>\n",
       "      <th>AT</th>\n",
       "      <th>AP</th>\n",
       "      <th>AH</th>\n",
       "      <th>AFDP</th>\n",
       "      <th>GTEP</th>\n",
       "      <th>TIT</th>\n",
       "      <th>TAT</th>\n",
       "      <th>TEY</th>\n",
       "      <th>CDP</th>\n",
       "      <th>CO</th>\n",
       "      <th>NOX</th>\n",
       "    </tr>\n",
       "  </thead>\n",
       "  <tbody>\n",
       "    <tr>\n",
       "      <th>count</th>\n",
       "      <td>22191.000000</td>\n",
       "      <td>22191.000000</td>\n",
       "      <td>22191.000000</td>\n",
       "      <td>22191.000000</td>\n",
       "      <td>22191.000000</td>\n",
       "      <td>22191.000000</td>\n",
       "      <td>22191.000000</td>\n",
       "      <td>22191.000000</td>\n",
       "      <td>22191.000000</td>\n",
       "      <td>22191.000000</td>\n",
       "      <td>22191.000000</td>\n",
       "    </tr>\n",
       "    <tr>\n",
       "      <th>mean</th>\n",
       "      <td>17.712247</td>\n",
       "      <td>1012.812607</td>\n",
       "      <td>79.555224</td>\n",
       "      <td>4.037750</td>\n",
       "      <td>25.317873</td>\n",
       "      <td>1083.080280</td>\n",
       "      <td>545.520170</td>\n",
       "      <td>133.537393</td>\n",
       "      <td>12.060208</td>\n",
       "      <td>2.214390</td>\n",
       "      <td>68.776529</td>\n",
       "    </tr>\n",
       "    <tr>\n",
       "      <th>std</th>\n",
       "      <td>7.352789</td>\n",
       "      <td>6.396588</td>\n",
       "      <td>13.915018</td>\n",
       "      <td>0.810223</td>\n",
       "      <td>4.234147</td>\n",
       "      <td>16.840765</td>\n",
       "      <td>7.708708</td>\n",
       "      <td>16.026107</td>\n",
       "      <td>1.114265</td>\n",
       "      <td>2.295746</td>\n",
       "      <td>11.036231</td>\n",
       "    </tr>\n",
       "    <tr>\n",
       "      <th>min</th>\n",
       "      <td>0.289850</td>\n",
       "      <td>985.850000</td>\n",
       "      <td>27.504000</td>\n",
       "      <td>2.087400</td>\n",
       "      <td>17.878000</td>\n",
       "      <td>1000.800000</td>\n",
       "      <td>512.450000</td>\n",
       "      <td>100.170000</td>\n",
       "      <td>9.875400</td>\n",
       "      <td>0.000388</td>\n",
       "      <td>27.765000</td>\n",
       "    </tr>\n",
       "    <tr>\n",
       "      <th>25%</th>\n",
       "      <td>11.664500</td>\n",
       "      <td>1008.800000</td>\n",
       "      <td>70.294500</td>\n",
       "      <td>3.449850</td>\n",
       "      <td>22.736000</td>\n",
       "      <td>1074.600000</td>\n",
       "      <td>542.600000</td>\n",
       "      <td>124.260000</td>\n",
       "      <td>11.395000</td>\n",
       "      <td>0.995375</td>\n",
       "      <td>61.548000</td>\n",
       "    </tr>\n",
       "    <tr>\n",
       "      <th>50%</th>\n",
       "      <td>17.739000</td>\n",
       "      <td>1012.400000</td>\n",
       "      <td>82.781000</td>\n",
       "      <td>4.068800</td>\n",
       "      <td>24.989000</td>\n",
       "      <td>1088.100000</td>\n",
       "      <td>549.900000</td>\n",
       "      <td>133.770000</td>\n",
       "      <td>12.001000</td>\n",
       "      <td>1.524200</td>\n",
       "      <td>67.096000</td>\n",
       "    </tr>\n",
       "    <tr>\n",
       "      <th>75%</th>\n",
       "      <td>23.657000</td>\n",
       "      <td>1016.700000</td>\n",
       "      <td>90.532000</td>\n",
       "      <td>4.451400</td>\n",
       "      <td>26.839000</td>\n",
       "      <td>1095.300000</td>\n",
       "      <td>550.050000</td>\n",
       "      <td>138.645000</td>\n",
       "      <td>12.443500</td>\n",
       "      <td>2.542400</td>\n",
       "      <td>74.572000</td>\n",
       "    </tr>\n",
       "    <tr>\n",
       "      <th>max</th>\n",
       "      <td>34.929000</td>\n",
       "      <td>1034.200000</td>\n",
       "      <td>100.200000</td>\n",
       "      <td>7.610600</td>\n",
       "      <td>37.402000</td>\n",
       "      <td>1100.800000</td>\n",
       "      <td>550.610000</td>\n",
       "      <td>174.610000</td>\n",
       "      <td>15.081000</td>\n",
       "      <td>44.103000</td>\n",
       "      <td>119.910000</td>\n",
       "    </tr>\n",
       "  </tbody>\n",
       "</table>\n",
       "</div>"
      ],
      "text/plain": [
       "                 AT            AP            AH          AFDP          GTEP  \\\n",
       "count  22191.000000  22191.000000  22191.000000  22191.000000  22191.000000   \n",
       "mean      17.712247   1012.812607     79.555224      4.037750     25.317873   \n",
       "std        7.352789      6.396588     13.915018      0.810223      4.234147   \n",
       "min        0.289850    985.850000     27.504000      2.087400     17.878000   \n",
       "25%       11.664500   1008.800000     70.294500      3.449850     22.736000   \n",
       "50%       17.739000   1012.400000     82.781000      4.068800     24.989000   \n",
       "75%       23.657000   1016.700000     90.532000      4.451400     26.839000   \n",
       "max       34.929000   1034.200000    100.200000      7.610600     37.402000   \n",
       "\n",
       "                TIT           TAT           TEY           CDP            CO  \\\n",
       "count  22191.000000  22191.000000  22191.000000  22191.000000  22191.000000   \n",
       "mean    1083.080280    545.520170    133.537393     12.060208      2.214390   \n",
       "std       16.840765      7.708708     16.026107      1.114265      2.295746   \n",
       "min     1000.800000    512.450000    100.170000      9.875400      0.000388   \n",
       "25%     1074.600000    542.600000    124.260000     11.395000      0.995375   \n",
       "50%     1088.100000    549.900000    133.770000     12.001000      1.524200   \n",
       "75%     1095.300000    550.050000    138.645000     12.443500      2.542400   \n",
       "max     1100.800000    550.610000    174.610000     15.081000     44.103000   \n",
       "\n",
       "                NOX  \n",
       "count  22191.000000  \n",
       "mean      68.776529  \n",
       "std       11.036231  \n",
       "min       27.765000  \n",
       "25%       61.548000  \n",
       "50%       67.096000  \n",
       "75%       74.572000  \n",
       "max      119.910000  "
      ]
     },
     "execution_count": 7,
     "metadata": {},
     "output_type": "execute_result"
    }
   ],
   "source": [
    "train.describe()"
   ]
  },
  {
   "cell_type": "code",
   "execution_count": 8,
   "metadata": {},
   "outputs": [
    {
     "data": {
      "text/plain": [
       "AT      0\n",
       "AP      0\n",
       "AH      0\n",
       "AFDP    0\n",
       "GTEP    0\n",
       "TIT     0\n",
       "TAT     0\n",
       "TEY     0\n",
       "CDP     0\n",
       "CO      0\n",
       "NOX     0\n",
       "dtype: int64"
      ]
     },
     "execution_count": 8,
     "metadata": {},
     "output_type": "execute_result"
    }
   ],
   "source": [
    "train.isnull().sum()"
   ]
  },
  {
   "cell_type": "code",
   "execution_count": 9,
   "metadata": {},
   "outputs": [
    {
     "data": {
      "text/plain": [
       "<AxesSubplot:>"
      ]
     },
     "execution_count": 9,
     "metadata": {},
     "output_type": "execute_result"
    },
    {
     "data": {
      "image/png": "[encoded data removed]",
      "text/plain": [
       "<Figure size 432x288 with 2 Axes>"
      ]
     },
     "metadata": {
      "needs_background": "light"
     },
     "output_type": "display_data"
    }
   ],
   "source": [
    "sns.heatmap(train.isnull())"
   ]
  },
  {
   "cell_type": "code",
   "execution_count": 10,
   "metadata": {},
   "outputs": [
    {
     "data": {
      "text/plain": [
       "0"
      ]
     },
     "execution_count": 10,
     "metadata": {},
     "output_type": "execute_result"
    }
   ],
   "source": [
    "train.duplicated().sum()"
   ]
  },
  {
   "cell_type": "code",
   "execution_count": 11,
   "metadata": {
    "scrolled": false
   },
   "outputs": [
    {
     "data": {
      "text/html": [
       "<div>\n",
       "<style scoped>\n",
       "    .dataframe tbody tr th:only-of-type {\n",
       "        vertical-align: middle;\n",
       "    }\n",
       "\n",
       "    .dataframe tbody tr th {\n",
       "        vertical-align: top;\n",
       "    }\n",
       "\n",
       "    .dataframe thead th {\n",
       "        text-align: right;\n",
       "    }\n",
       "</style>\n",
       "<table border=\"1\" class=\"dataframe\">\n",
       "  <thead>\n",
       "    <tr style=\"text-align: right;\">\n",
       "      <th></th>\n",
       "      <th>AT</th>\n",
       "      <th>AP</th>\n",
       "      <th>AH</th>\n",
       "      <th>AFDP</th>\n",
       "      <th>GTEP</th>\n",
       "      <th>TIT</th>\n",
       "      <th>TAT</th>\n",
       "      <th>TEY</th>\n",
       "      <th>CDP</th>\n",
       "      <th>CO</th>\n",
       "      <th>NOX</th>\n",
       "    </tr>\n",
       "  </thead>\n",
       "  <tbody>\n",
       "    <tr>\n",
       "      <th>0</th>\n",
       "      <td>8.8358</td>\n",
       "      <td>1022.2</td>\n",
       "      <td>98.762</td>\n",
       "      <td>3.2422</td>\n",
       "      <td>23.152</td>\n",
       "      <td>1067.5</td>\n",
       "      <td>549.94</td>\n",
       "      <td>126.16</td>\n",
       "      <td>11.381</td>\n",
       "      <td>1.9157</td>\n",
       "      <td>68.292</td>\n",
       "    </tr>\n",
       "    <tr>\n",
       "      <th>1</th>\n",
       "      <td>9.0529</td>\n",
       "      <td>1021.8</td>\n",
       "      <td>97.464</td>\n",
       "      <td>3.2074</td>\n",
       "      <td>23.207</td>\n",
       "      <td>1067.9</td>\n",
       "      <td>549.80</td>\n",
       "      <td>126.51</td>\n",
       "      <td>11.476</td>\n",
       "      <td>2.0596</td>\n",
       "      <td>68.610</td>\n",
       "    </tr>\n",
       "    <tr>\n",
       "      <th>2</th>\n",
       "      <td>9.2464</td>\n",
       "      <td>1021.3</td>\n",
       "      <td>96.494</td>\n",
       "      <td>3.2051</td>\n",
       "      <td>23.296</td>\n",
       "      <td>1068.5</td>\n",
       "      <td>549.89</td>\n",
       "      <td>126.96</td>\n",
       "      <td>11.555</td>\n",
       "      <td>2.1621</td>\n",
       "      <td>68.324</td>\n",
       "    </tr>\n",
       "    <tr>\n",
       "      <th>3</th>\n",
       "      <td>9.3792</td>\n",
       "      <td>1020.9</td>\n",
       "      <td>95.912</td>\n",
       "      <td>3.2159</td>\n",
       "      <td>23.465</td>\n",
       "      <td>1069.6</td>\n",
       "      <td>549.94</td>\n",
       "      <td>127.83</td>\n",
       "      <td>11.539</td>\n",
       "      <td>2.1214</td>\n",
       "      <td>67.619</td>\n",
       "    </tr>\n",
       "    <tr>\n",
       "      <th>4</th>\n",
       "      <td>9.5757</td>\n",
       "      <td>1020.8</td>\n",
       "      <td>95.412</td>\n",
       "      <td>3.1898</td>\n",
       "      <td>23.205</td>\n",
       "      <td>1068.1</td>\n",
       "      <td>549.83</td>\n",
       "      <td>126.56</td>\n",
       "      <td>11.484</td>\n",
       "      <td>2.1549</td>\n",
       "      <td>66.499</td>\n",
       "    </tr>\n",
       "    <tr>\n",
       "      <th>...</th>\n",
       "      <td>...</td>\n",
       "      <td>...</td>\n",
       "      <td>...</td>\n",
       "      <td>...</td>\n",
       "      <td>...</td>\n",
       "      <td>...</td>\n",
       "      <td>...</td>\n",
       "      <td>...</td>\n",
       "      <td>...</td>\n",
       "      <td>...</td>\n",
       "      <td>...</td>\n",
       "    </tr>\n",
       "    <tr>\n",
       "      <th>7379</th>\n",
       "      <td>3.6268</td>\n",
       "      <td>1028.5</td>\n",
       "      <td>93.200</td>\n",
       "      <td>3.1661</td>\n",
       "      <td>19.087</td>\n",
       "      <td>1037.0</td>\n",
       "      <td>541.59</td>\n",
       "      <td>109.08</td>\n",
       "      <td>10.411</td>\n",
       "      <td>10.9930</td>\n",
       "      <td>89.172</td>\n",
       "    </tr>\n",
       "    <tr>\n",
       "      <th>7380</th>\n",
       "      <td>4.1674</td>\n",
       "      <td>1028.6</td>\n",
       "      <td>94.036</td>\n",
       "      <td>3.1923</td>\n",
       "      <td>19.016</td>\n",
       "      <td>1037.6</td>\n",
       "      <td>542.28</td>\n",
       "      <td>108.79</td>\n",
       "      <td>10.344</td>\n",
       "      <td>11.1440</td>\n",
       "      <td>88.849</td>\n",
       "    </tr>\n",
       "    <tr>\n",
       "      <th>7381</th>\n",
       "      <td>5.4820</td>\n",
       "      <td>1028.5</td>\n",
       "      <td>95.219</td>\n",
       "      <td>3.3128</td>\n",
       "      <td>18.857</td>\n",
       "      <td>1038.0</td>\n",
       "      <td>543.48</td>\n",
       "      <td>107.81</td>\n",
       "      <td>10.462</td>\n",
       "      <td>11.4140</td>\n",
       "      <td>96.147</td>\n",
       "    </tr>\n",
       "    <tr>\n",
       "      <th>7382</th>\n",
       "      <td>5.8837</td>\n",
       "      <td>1028.7</td>\n",
       "      <td>94.200</td>\n",
       "      <td>3.9831</td>\n",
       "      <td>23.563</td>\n",
       "      <td>1076.9</td>\n",
       "      <td>550.11</td>\n",
       "      <td>131.41</td>\n",
       "      <td>11.771</td>\n",
       "      <td>3.3134</td>\n",
       "      <td>64.738</td>\n",
       "    </tr>\n",
       "    <tr>\n",
       "      <th>7383</th>\n",
       "      <td>6.0392</td>\n",
       "      <td>1028.8</td>\n",
       "      <td>94.547</td>\n",
       "      <td>3.8752</td>\n",
       "      <td>22.524</td>\n",
       "      <td>1067.9</td>\n",
       "      <td>548.23</td>\n",
       "      <td>125.41</td>\n",
       "      <td>11.462</td>\n",
       "      <td>11.9810</td>\n",
       "      <td>109.240</td>\n",
       "    </tr>\n",
       "  </tbody>\n",
       "</table>\n",
       "<p>14542 rows × 11 columns</p>\n",
       "</div>"
      ],
      "text/plain": [
       "          AT      AP      AH    AFDP    GTEP     TIT     TAT     TEY     CDP  \\\n",
       "0     8.8358  1022.2  98.762  3.2422  23.152  1067.5  549.94  126.16  11.381   \n",
       "1     9.0529  1021.8  97.464  3.2074  23.207  1067.9  549.80  126.51  11.476   \n",
       "2     9.2464  1021.3  96.494  3.2051  23.296  1068.5  549.89  126.96  11.555   \n",
       "3     9.3792  1020.9  95.912  3.2159  23.465  1069.6  549.94  127.83  11.539   \n",
       "4     9.5757  1020.8  95.412  3.1898  23.205  1068.1  549.83  126.56  11.484   \n",
       "...      ...     ...     ...     ...     ...     ...     ...     ...     ...   \n",
       "7379  3.6268  1028.5  93.200  3.1661  19.087  1037.0  541.59  109.08  10.411   \n",
       "7380  4.1674  1028.6  94.036  3.1923  19.016  1037.6  542.28  108.79  10.344   \n",
       "7381  5.4820  1028.5  95.219  3.3128  18.857  1038.0  543.48  107.81  10.462   \n",
       "7382  5.8837  1028.7  94.200  3.9831  23.563  1076.9  550.11  131.41  11.771   \n",
       "7383  6.0392  1028.8  94.547  3.8752  22.524  1067.9  548.23  125.41  11.462   \n",
       "\n",
       "           CO      NOX  \n",
       "0      1.9157   68.292  \n",
       "1      2.0596   68.610  \n",
       "2      2.1621   68.324  \n",
       "3      2.1214   67.619  \n",
       "4      2.1549   66.499  \n",
       "...       ...      ...  \n",
       "7379  10.9930   89.172  \n",
       "7380  11.1440   88.849  \n",
       "7381  11.4140   96.147  \n",
       "7382   3.3134   64.738  \n",
       "7383  11.9810  109.240  \n",
       "\n",
       "[14542 rows x 11 columns]"
      ]
     },
     "execution_count": 11,
     "metadata": {},
     "output_type": "execute_result"
    }
   ],
   "source": [
    "test"
   ]
  },
  {
   "cell_type": "code",
   "execution_count": 12,
   "metadata": {
    "scrolled": true
   },
   "outputs": [
    {
     "data": {
      "text/html": [
       "<div>\n",
       "<style scoped>\n",
       "    .dataframe tbody tr th:only-of-type {\n",
       "        vertical-align: middle;\n",
       "    }\n",
       "\n",
       "    .dataframe tbody tr th {\n",
       "        vertical-align: top;\n",
       "    }\n",
       "\n",
       "    .dataframe thead th {\n",
       "        text-align: right;\n",
       "    }\n",
       "</style>\n",
       "<table border=\"1\" class=\"dataframe\">\n",
       "  <thead>\n",
       "    <tr style=\"text-align: right;\">\n",
       "      <th></th>\n",
       "      <th>AT</th>\n",
       "      <th>AP</th>\n",
       "      <th>AH</th>\n",
       "      <th>AFDP</th>\n",
       "      <th>GTEP</th>\n",
       "      <th>TIT</th>\n",
       "      <th>TAT</th>\n",
       "      <th>TEY</th>\n",
       "      <th>CDP</th>\n",
       "      <th>CO</th>\n",
       "      <th>NOX</th>\n",
       "    </tr>\n",
       "  </thead>\n",
       "  <tbody>\n",
       "    <tr>\n",
       "      <th>0</th>\n",
       "      <td>8.8358</td>\n",
       "      <td>1022.2</td>\n",
       "      <td>98.762</td>\n",
       "      <td>3.2422</td>\n",
       "      <td>23.152</td>\n",
       "      <td>1067.5</td>\n",
       "      <td>549.94</td>\n",
       "      <td>126.16</td>\n",
       "      <td>11.381</td>\n",
       "      <td>1.9157</td>\n",
       "      <td>68.292</td>\n",
       "    </tr>\n",
       "    <tr>\n",
       "      <th>1</th>\n",
       "      <td>9.0529</td>\n",
       "      <td>1021.8</td>\n",
       "      <td>97.464</td>\n",
       "      <td>3.2074</td>\n",
       "      <td>23.207</td>\n",
       "      <td>1067.9</td>\n",
       "      <td>549.80</td>\n",
       "      <td>126.51</td>\n",
       "      <td>11.476</td>\n",
       "      <td>2.0596</td>\n",
       "      <td>68.610</td>\n",
       "    </tr>\n",
       "    <tr>\n",
       "      <th>2</th>\n",
       "      <td>9.2464</td>\n",
       "      <td>1021.3</td>\n",
       "      <td>96.494</td>\n",
       "      <td>3.2051</td>\n",
       "      <td>23.296</td>\n",
       "      <td>1068.5</td>\n",
       "      <td>549.89</td>\n",
       "      <td>126.96</td>\n",
       "      <td>11.555</td>\n",
       "      <td>2.1621</td>\n",
       "      <td>68.324</td>\n",
       "    </tr>\n",
       "    <tr>\n",
       "      <th>3</th>\n",
       "      <td>9.3792</td>\n",
       "      <td>1020.9</td>\n",
       "      <td>95.912</td>\n",
       "      <td>3.2159</td>\n",
       "      <td>23.465</td>\n",
       "      <td>1069.6</td>\n",
       "      <td>549.94</td>\n",
       "      <td>127.83</td>\n",
       "      <td>11.539</td>\n",
       "      <td>2.1214</td>\n",
       "      <td>67.619</td>\n",
       "    </tr>\n",
       "    <tr>\n",
       "      <th>4</th>\n",
       "      <td>9.5757</td>\n",
       "      <td>1020.8</td>\n",
       "      <td>95.412</td>\n",
       "      <td>3.1898</td>\n",
       "      <td>23.205</td>\n",
       "      <td>1068.1</td>\n",
       "      <td>549.83</td>\n",
       "      <td>126.56</td>\n",
       "      <td>11.484</td>\n",
       "      <td>2.1549</td>\n",
       "      <td>66.499</td>\n",
       "    </tr>\n",
       "  </tbody>\n",
       "</table>\n",
       "</div>"
      ],
      "text/plain": [
       "       AT      AP      AH    AFDP    GTEP     TIT     TAT     TEY     CDP  \\\n",
       "0  8.8358  1022.2  98.762  3.2422  23.152  1067.5  549.94  126.16  11.381   \n",
       "1  9.0529  1021.8  97.464  3.2074  23.207  1067.9  549.80  126.51  11.476   \n",
       "2  9.2464  1021.3  96.494  3.2051  23.296  1068.5  549.89  126.96  11.555   \n",
       "3  9.3792  1020.9  95.912  3.2159  23.465  1069.6  549.94  127.83  11.539   \n",
       "4  9.5757  1020.8  95.412  3.1898  23.205  1068.1  549.83  126.56  11.484   \n",
       "\n",
       "       CO     NOX  \n",
       "0  1.9157  68.292  \n",
       "1  2.0596  68.610  \n",
       "2  2.1621  68.324  \n",
       "3  2.1214  67.619  \n",
       "4  2.1549  66.499  "
      ]
     },
     "execution_count": 12,
     "metadata": {},
     "output_type": "execute_result"
    }
   ],
   "source": [
    "test.head()"
   ]
  },
  {
   "cell_type": "code",
   "execution_count": 13,
   "metadata": {},
   "outputs": [
    {
     "data": {
      "text/html": [
       "<div>\n",
       "<style scoped>\n",
       "    .dataframe tbody tr th:only-of-type {\n",
       "        vertical-align: middle;\n",
       "    }\n",
       "\n",
       "    .dataframe tbody tr th {\n",
       "        vertical-align: top;\n",
       "    }\n",
       "\n",
       "    .dataframe thead th {\n",
       "        text-align: right;\n",
       "    }\n",
       "</style>\n",
       "<table border=\"1\" class=\"dataframe\">\n",
       "  <thead>\n",
       "    <tr style=\"text-align: right;\">\n",
       "      <th></th>\n",
       "      <th>AT</th>\n",
       "      <th>AP</th>\n",
       "      <th>AH</th>\n",
       "      <th>AFDP</th>\n",
       "      <th>GTEP</th>\n",
       "      <th>TIT</th>\n",
       "      <th>TAT</th>\n",
       "      <th>TEY</th>\n",
       "      <th>CDP</th>\n",
       "      <th>CO</th>\n",
       "      <th>NOX</th>\n",
       "    </tr>\n",
       "  </thead>\n",
       "  <tbody>\n",
       "    <tr>\n",
       "      <th>count</th>\n",
       "      <td>14542.000000</td>\n",
       "      <td>14542.000000</td>\n",
       "      <td>14542.000000</td>\n",
       "      <td>14542.000000</td>\n",
       "      <td>14542.000000</td>\n",
       "      <td>14542.000000</td>\n",
       "      <td>14542.000000</td>\n",
       "      <td>14542.000000</td>\n",
       "      <td>14542.000000</td>\n",
       "      <td>14542.000000</td>\n",
       "      <td>14542.000000</td>\n",
       "    </tr>\n",
       "    <tr>\n",
       "      <th>mean</th>\n",
       "      <td>17.713458</td>\n",
       "      <td>1013.463197</td>\n",
       "      <td>75.290819</td>\n",
       "      <td>3.754252</td>\n",
       "      <td>25.939087</td>\n",
       "      <td>1078.906842</td>\n",
       "      <td>547.132631</td>\n",
       "      <td>133.459114</td>\n",
       "      <td>12.061010</td>\n",
       "      <td>2.613695</td>\n",
       "      <td>59.977327</td>\n",
       "    </tr>\n",
       "    <tr>\n",
       "      <th>std</th>\n",
       "      <td>7.589885</td>\n",
       "      <td>6.544624</td>\n",
       "      <td>14.893508</td>\n",
       "      <td>0.680248</td>\n",
       "      <td>4.108871</td>\n",
       "      <td>18.262380</td>\n",
       "      <td>5.100267</td>\n",
       "      <td>14.975901</td>\n",
       "      <td>1.048775</td>\n",
       "      <td>2.189435</td>\n",
       "      <td>10.577052</td>\n",
       "    </tr>\n",
       "    <tr>\n",
       "      <th>min</th>\n",
       "      <td>-6.234800</td>\n",
       "      <td>989.400000</td>\n",
       "      <td>24.085000</td>\n",
       "      <td>2.151700</td>\n",
       "      <td>17.698000</td>\n",
       "      <td>1002.900000</td>\n",
       "      <td>511.040000</td>\n",
       "      <td>100.020000</td>\n",
       "      <td>9.851800</td>\n",
       "      <td>0.001640</td>\n",
       "      <td>25.905000</td>\n",
       "    </tr>\n",
       "    <tr>\n",
       "      <th>25%</th>\n",
       "      <td>11.981000</td>\n",
       "      <td>1008.800000</td>\n",
       "      <td>65.620250</td>\n",
       "      <td>3.276200</td>\n",
       "      <td>23.297250</td>\n",
       "      <td>1069.900000</td>\n",
       "      <td>545.570000</td>\n",
       "      <td>124.620000</td>\n",
       "      <td>11.456250</td>\n",
       "      <td>1.468725</td>\n",
       "      <td>53.045000</td>\n",
       "    </tr>\n",
       "    <tr>\n",
       "      <th>50%</th>\n",
       "      <td>17.877000</td>\n",
       "      <td>1012.800000</td>\n",
       "      <td>77.086500</td>\n",
       "      <td>3.760950</td>\n",
       "      <td>25.224000</td>\n",
       "      <td>1079.500000</td>\n",
       "      <td>549.850000</td>\n",
       "      <td>132.580000</td>\n",
       "      <td>11.914000</td>\n",
       "      <td>1.956000</td>\n",
       "      <td>58.127500</td>\n",
       "    </tr>\n",
       "    <tr>\n",
       "      <th>75%</th>\n",
       "      <td>23.684000</td>\n",
       "      <td>1017.500000</td>\n",
       "      <td>86.305000</td>\n",
       "      <td>4.231275</td>\n",
       "      <td>29.764000</td>\n",
       "      <td>1099.500000</td>\n",
       "      <td>550.040000</td>\n",
       "      <td>146.010000</td>\n",
       "      <td>13.065000</td>\n",
       "      <td>3.120575</td>\n",
       "      <td>64.316000</td>\n",
       "    </tr>\n",
       "    <tr>\n",
       "      <th>max</th>\n",
       "      <td>37.103000</td>\n",
       "      <td>1036.600000</td>\n",
       "      <td>100.100000</td>\n",
       "      <td>6.738600</td>\n",
       "      <td>40.716000</td>\n",
       "      <td>1100.900000</td>\n",
       "      <td>550.600000</td>\n",
       "      <td>179.500000</td>\n",
       "      <td>15.159000</td>\n",
       "      <td>41.097000</td>\n",
       "      <td>119.680000</td>\n",
       "    </tr>\n",
       "  </tbody>\n",
       "</table>\n",
       "</div>"
      ],
      "text/plain": [
       "                 AT            AP            AH          AFDP          GTEP  \\\n",
       "count  14542.000000  14542.000000  14542.000000  14542.000000  14542.000000   \n",
       "mean      17.713458   1013.463197     75.290819      3.754252     25.939087   \n",
       "std        7.589885      6.544624     14.893508      0.680248      4.108871   \n",
       "min       -6.234800    989.400000     24.085000      2.151700     17.698000   \n",
       "25%       11.981000   1008.800000     65.620250      3.276200     23.297250   \n",
       "50%       17.877000   1012.800000     77.086500      3.760950     25.224000   \n",
       "75%       23.684000   1017.500000     86.305000      4.231275     29.764000   \n",
       "max       37.103000   1036.600000    100.100000      6.738600     40.716000   \n",
       "\n",
       "                TIT           TAT           TEY           CDP            CO  \\\n",
       "count  14542.000000  14542.000000  14542.000000  14542.000000  14542.000000   \n",
       "mean    1078.906842    547.132631    133.459114     12.061010      2.613695   \n",
       "std       18.262380      5.100267     14.975901      1.048775      2.189435   \n",
       "min     1002.900000    511.040000    100.020000      9.851800      0.001640   \n",
       "25%     1069.900000    545.570000    124.620000     11.456250      1.468725   \n",
       "50%     1079.500000    549.850000    132.580000     11.914000      1.956000   \n",
       "75%     1099.500000    550.040000    146.010000     13.065000      3.120575   \n",
       "max     1100.900000    550.600000    179.500000     15.159000     41.097000   \n",
       "\n",
       "                NOX  \n",
       "count  14542.000000  \n",
       "mean      59.977327  \n",
       "std       10.577052  \n",
       "min       25.905000  \n",
       "25%       53.045000  \n",
       "50%       58.127500  \n",
       "75%       64.316000  \n",
       "max      119.680000  "
      ]
     },
     "execution_count": 13,
     "metadata": {},
     "output_type": "execute_result"
    }
   ],
   "source": [
    "test.describe()"
   ]
  },
  {
   "cell_type": "code",
   "execution_count": 14,
   "metadata": {},
   "outputs": [
    {
     "name": "stdout",
     "output_type": "stream",
     "text": [
      "<class 'pandas.core.frame.DataFrame'>\n",
      "Int64Index: 14542 entries, 0 to 7383\n",
      "Data columns (total 11 columns):\n",
      " #   Column  Non-Null Count  Dtype  \n",
      "---  ------  --------------  -----  \n",
      " 0   AT      14542 non-null  float64\n",
      " 1   AP      14542 non-null  float64\n",
      " 2   AH      14542 non-null  float64\n",
      " 3   AFDP    14542 non-null  float64\n",
      " 4   GTEP    14542 non-null  float64\n",
      " 5   TIT     14542 non-null  float64\n",
      " 6   TAT     14542 non-null  float64\n",
      " 7   TEY     14542 non-null  float64\n",
      " 8   CDP     14542 non-null  float64\n",
      " 9   CO      14542 non-null  float64\n",
      " 10  NOX     14542 non-null  float64\n",
      "dtypes: float64(11)\n",
      "memory usage: 1.3 MB\n"
     ]
    }
   ],
   "source": [
    "test.info()"
   ]
  },
  {
   "cell_type": "code",
   "execution_count": 15,
   "metadata": {},
   "outputs": [
    {
     "data": {
      "text/plain": [
       "AT      0\n",
       "AP      0\n",
       "AH      0\n",
       "AFDP    0\n",
       "GTEP    0\n",
       "TIT     0\n",
       "TAT     0\n",
       "TEY     0\n",
       "CDP     0\n",
       "CO      0\n",
       "NOX     0\n",
       "dtype: int64"
      ]
     },
     "execution_count": 15,
     "metadata": {},
     "output_type": "execute_result"
    }
   ],
   "source": [
    "test.isnull().sum()"
   ]
  },
  {
   "cell_type": "code",
   "execution_count": 16,
   "metadata": {},
   "outputs": [
    {
     "data": {
      "text/plain": [
       "<AxesSubplot:>"
      ]
     },
     "execution_count": 16,
     "metadata": {},
     "output_type": "execute_result"
    },
    {
     "data": {
      "image/png": "[encoded data removed]",
      "text/plain": [
       "<Figure size 432x288 with 2 Axes>"
      ]
     },
     "metadata": {
      "needs_background": "light"
     },
     "output_type": "display_data"
    }
   ],
   "source": [
    "sns.heatmap(test.isnull())"
   ]
  },
  {
   "cell_type": "code",
   "execution_count": 17,
   "metadata": {},
   "outputs": [
    {
     "data": {
      "text/html": [
       "<div>\n",
       "<style scoped>\n",
       "    .dataframe tbody tr th:only-of-type {\n",
       "        vertical-align: middle;\n",
       "    }\n",
       "\n",
       "    .dataframe tbody tr th {\n",
       "        vertical-align: top;\n",
       "    }\n",
       "\n",
       "    .dataframe thead th {\n",
       "        text-align: right;\n",
       "    }\n",
       "</style>\n",
       "<table border=\"1\" class=\"dataframe\">\n",
       "  <thead>\n",
       "    <tr style=\"text-align: right;\">\n",
       "      <th></th>\n",
       "      <th>AT</th>\n",
       "      <th>AP</th>\n",
       "      <th>AH</th>\n",
       "      <th>AFDP</th>\n",
       "      <th>GTEP</th>\n",
       "      <th>TIT</th>\n",
       "      <th>TAT</th>\n",
       "      <th>TEY</th>\n",
       "      <th>CDP</th>\n",
       "      <th>CO</th>\n",
       "      <th>NOX</th>\n",
       "    </tr>\n",
       "  </thead>\n",
       "  <tbody>\n",
       "    <tr>\n",
       "      <th>0</th>\n",
       "      <td>8.8358</td>\n",
       "      <td>1022.2</td>\n",
       "      <td>98.762</td>\n",
       "      <td>3.2422</td>\n",
       "      <td>23.152</td>\n",
       "      <td>1067.5</td>\n",
       "      <td>549.94</td>\n",
       "      <td>126.16</td>\n",
       "      <td>11.381</td>\n",
       "      <td>1.9157</td>\n",
       "      <td>68.292</td>\n",
       "    </tr>\n",
       "    <tr>\n",
       "      <th>1</th>\n",
       "      <td>9.0529</td>\n",
       "      <td>1021.8</td>\n",
       "      <td>97.464</td>\n",
       "      <td>3.2074</td>\n",
       "      <td>23.207</td>\n",
       "      <td>1067.9</td>\n",
       "      <td>549.80</td>\n",
       "      <td>126.51</td>\n",
       "      <td>11.476</td>\n",
       "      <td>2.0596</td>\n",
       "      <td>68.610</td>\n",
       "    </tr>\n",
       "    <tr>\n",
       "      <th>2</th>\n",
       "      <td>9.2464</td>\n",
       "      <td>1021.3</td>\n",
       "      <td>96.494</td>\n",
       "      <td>3.2051</td>\n",
       "      <td>23.296</td>\n",
       "      <td>1068.5</td>\n",
       "      <td>549.89</td>\n",
       "      <td>126.96</td>\n",
       "      <td>11.555</td>\n",
       "      <td>2.1621</td>\n",
       "      <td>68.324</td>\n",
       "    </tr>\n",
       "    <tr>\n",
       "      <th>3</th>\n",
       "      <td>9.3792</td>\n",
       "      <td>1020.9</td>\n",
       "      <td>95.912</td>\n",
       "      <td>3.2159</td>\n",
       "      <td>23.465</td>\n",
       "      <td>1069.6</td>\n",
       "      <td>549.94</td>\n",
       "      <td>127.83</td>\n",
       "      <td>11.539</td>\n",
       "      <td>2.1214</td>\n",
       "      <td>67.619</td>\n",
       "    </tr>\n",
       "    <tr>\n",
       "      <th>4</th>\n",
       "      <td>9.5757</td>\n",
       "      <td>1020.8</td>\n",
       "      <td>95.412</td>\n",
       "      <td>3.1898</td>\n",
       "      <td>23.205</td>\n",
       "      <td>1068.1</td>\n",
       "      <td>549.83</td>\n",
       "      <td>126.56</td>\n",
       "      <td>11.484</td>\n",
       "      <td>2.1549</td>\n",
       "      <td>66.499</td>\n",
       "    </tr>\n",
       "    <tr>\n",
       "      <th>...</th>\n",
       "      <td>...</td>\n",
       "      <td>...</td>\n",
       "      <td>...</td>\n",
       "      <td>...</td>\n",
       "      <td>...</td>\n",
       "      <td>...</td>\n",
       "      <td>...</td>\n",
       "      <td>...</td>\n",
       "      <td>...</td>\n",
       "      <td>...</td>\n",
       "      <td>...</td>\n",
       "    </tr>\n",
       "    <tr>\n",
       "      <th>7379</th>\n",
       "      <td>3.6268</td>\n",
       "      <td>1028.5</td>\n",
       "      <td>93.200</td>\n",
       "      <td>3.1661</td>\n",
       "      <td>19.087</td>\n",
       "      <td>1037.0</td>\n",
       "      <td>541.59</td>\n",
       "      <td>109.08</td>\n",
       "      <td>10.411</td>\n",
       "      <td>10.9930</td>\n",
       "      <td>89.172</td>\n",
       "    </tr>\n",
       "    <tr>\n",
       "      <th>7380</th>\n",
       "      <td>4.1674</td>\n",
       "      <td>1028.6</td>\n",
       "      <td>94.036</td>\n",
       "      <td>3.1923</td>\n",
       "      <td>19.016</td>\n",
       "      <td>1037.6</td>\n",
       "      <td>542.28</td>\n",
       "      <td>108.79</td>\n",
       "      <td>10.344</td>\n",
       "      <td>11.1440</td>\n",
       "      <td>88.849</td>\n",
       "    </tr>\n",
       "    <tr>\n",
       "      <th>7381</th>\n",
       "      <td>5.4820</td>\n",
       "      <td>1028.5</td>\n",
       "      <td>95.219</td>\n",
       "      <td>3.3128</td>\n",
       "      <td>18.857</td>\n",
       "      <td>1038.0</td>\n",
       "      <td>543.48</td>\n",
       "      <td>107.81</td>\n",
       "      <td>10.462</td>\n",
       "      <td>11.4140</td>\n",
       "      <td>96.147</td>\n",
       "    </tr>\n",
       "    <tr>\n",
       "      <th>7382</th>\n",
       "      <td>5.8837</td>\n",
       "      <td>1028.7</td>\n",
       "      <td>94.200</td>\n",
       "      <td>3.9831</td>\n",
       "      <td>23.563</td>\n",
       "      <td>1076.9</td>\n",
       "      <td>550.11</td>\n",
       "      <td>131.41</td>\n",
       "      <td>11.771</td>\n",
       "      <td>3.3134</td>\n",
       "      <td>64.738</td>\n",
       "    </tr>\n",
       "    <tr>\n",
       "      <th>7383</th>\n",
       "      <td>6.0392</td>\n",
       "      <td>1028.8</td>\n",
       "      <td>94.547</td>\n",
       "      <td>3.8752</td>\n",
       "      <td>22.524</td>\n",
       "      <td>1067.9</td>\n",
       "      <td>548.23</td>\n",
       "      <td>125.41</td>\n",
       "      <td>11.462</td>\n",
       "      <td>11.9810</td>\n",
       "      <td>109.240</td>\n",
       "    </tr>\n",
       "  </tbody>\n",
       "</table>\n",
       "<p>14535 rows × 11 columns</p>\n",
       "</div>"
      ],
      "text/plain": [
       "          AT      AP      AH    AFDP    GTEP     TIT     TAT     TEY     CDP  \\\n",
       "0     8.8358  1022.2  98.762  3.2422  23.152  1067.5  549.94  126.16  11.381   \n",
       "1     9.0529  1021.8  97.464  3.2074  23.207  1067.9  549.80  126.51  11.476   \n",
       "2     9.2464  1021.3  96.494  3.2051  23.296  1068.5  549.89  126.96  11.555   \n",
       "3     9.3792  1020.9  95.912  3.2159  23.465  1069.6  549.94  127.83  11.539   \n",
       "4     9.5757  1020.8  95.412  3.1898  23.205  1068.1  549.83  126.56  11.484   \n",
       "...      ...     ...     ...     ...     ...     ...     ...     ...     ...   \n",
       "7379  3.6268  1028.5  93.200  3.1661  19.087  1037.0  541.59  109.08  10.411   \n",
       "7380  4.1674  1028.6  94.036  3.1923  19.016  1037.6  542.28  108.79  10.344   \n",
       "7381  5.4820  1028.5  95.219  3.3128  18.857  1038.0  543.48  107.81  10.462   \n",
       "7382  5.8837  1028.7  94.200  3.9831  23.563  1076.9  550.11  131.41  11.771   \n",
       "7383  6.0392  1028.8  94.547  3.8752  22.524  1067.9  548.23  125.41  11.462   \n",
       "\n",
       "           CO      NOX  \n",
       "0      1.9157   68.292  \n",
       "1      2.0596   68.610  \n",
       "2      2.1621   68.324  \n",
       "3      2.1214   67.619  \n",
       "4      2.1549   66.499  \n",
       "...       ...      ...  \n",
       "7379  10.9930   89.172  \n",
       "7380  11.1440   88.849  \n",
       "7381  11.4140   96.147  \n",
       "7382   3.3134   64.738  \n",
       "7383  11.9810  109.240  \n",
       "\n",
       "[14535 rows x 11 columns]"
      ]
     },
     "execution_count": 17,
     "metadata": {},
     "output_type": "execute_result"
    }
   ],
   "source": [
    "test.drop_duplicates()"
   ]
  },
  {
   "cell_type": "code",
   "execution_count": 18,
   "metadata": {},
   "outputs": [],
   "source": [
    "#sns.pairplot(train)"
   ]
  },
  {
   "cell_type": "code",
   "execution_count": 19,
   "metadata": {},
   "outputs": [],
   "source": [
    "#sns.pairplot(test)"
   ]
  },
  {
   "cell_type": "code",
   "execution_count": 20,
   "metadata": {},
   "outputs": [
    {
     "data": {
      "text/plain": [
       "<AxesSubplot:xlabel='CO', ylabel='Count'>"
      ]
     },
     "execution_count": 20,
     "metadata": {},
     "output_type": "execute_result"
    },
    {
     "data": {
      "image/png": "[encoded data removed]",
      "text/plain": [
       "<Figure size 1080x576 with 1 Axes>"
      ]
     },
     "metadata": {
      "needs_background": "light"
     },
     "output_type": "display_data"
    }
   ],
   "source": [
    "plt.figure(figsize=(15,8))\n",
    "sns.histplot(train,x='CO')"
   ]
  },
  {
   "cell_type": "code",
   "execution_count": 21,
   "metadata": {},
   "outputs": [
    {
     "data": {
      "text/plain": [
       "<AxesSubplot:xlabel='NOX', ylabel='Count'>"
      ]
     },
     "execution_count": 21,
     "metadata": {},
     "output_type": "execute_result"
    },
    {
     "data": {
      "image/png": "[encoded data removed]",
      "text/plain": [
       "<Figure size 1080x576 with 1 Axes>"
      ]
     },
     "metadata": {
      "needs_background": "light"
     },
     "output_type": "display_data"
    }
   ],
   "source": [
    "plt.figure(figsize=(15,8))\n",
    "sns.histplot(train,x='NOX')"
   ]
  },
  {
   "cell_type": "code",
   "execution_count": 22,
   "metadata": {
    "scrolled": false
   },
   "outputs": [
    {
     "data": {
      "text/plain": [
       "<AxesSubplot:xlabel='AP', ylabel='Count'>"
      ]
     },
     "execution_count": 22,
     "metadata": {},
     "output_type": "execute_result"
    },
    {
     "data": {
      "image/png": "[encoded data removed]",
      "text/plain": [
       "<Figure size 1080x576 with 1 Axes>"
      ]
     },
     "metadata": {
      "needs_background": "light"
     },
     "output_type": "display_data"
    }
   ],
   "source": [
    "plt.figure(figsize=(15,8))\n",
    "sns.histplot(train,x = 'AP')"
   ]
  },
  {
   "cell_type": "code",
   "execution_count": 23,
   "metadata": {},
   "outputs": [
    {
     "data": {
      "text/plain": [
       "<AxesSubplot:xlabel='AT', ylabel='Count'>"
      ]
     },
     "execution_count": 23,
     "metadata": {},
     "output_type": "execute_result"
    },
    {
     "data": {
      "image/png": "[encoded data removed]",
      "text/plain": [
       "<Figure size 1080x576 with 1 Axes>"
      ]
     },
     "metadata": {
      "needs_background": "light"
     },
     "output_type": "display_data"
    }
   ],
   "source": [
    "plt.figure(figsize=(15,8))\n",
    "sns.histplot(train,x = 'AT')"
   ]
  },
  {
   "cell_type": "code",
   "execution_count": 24,
   "metadata": {},
   "outputs": [
    {
     "data": {
      "text/plain": [
       "<AxesSubplot:xlabel='AH', ylabel='Count'>"
      ]
     },
     "execution_count": 24,
     "metadata": {},
     "output_type": "execute_result"
    },
    {
     "data": {
      "image/png": "[encoded data removed]",
      "text/plain": [
       "<Figure size 1080x576 with 1 Axes>"
      ]
     },
     "metadata": {
      "needs_background": "light"
     },
     "output_type": "display_data"
    }
   ],
   "source": [
    "plt.figure(figsize=(15,8))\n",
    "sns.histplot(train,x = 'AH')"
   ]
  },
  {
   "cell_type": "code",
   "execution_count": 25,
   "metadata": {},
   "outputs": [
    {
     "data": {
      "text/plain": [
       "<AxesSubplot:xlabel='TIT', ylabel='Count'>"
      ]
     },
     "execution_count": 25,
     "metadata": {},
     "output_type": "execute_result"
    },
    {
     "data": {
      "image/png": "[encoded data removed]",
      "text/plain": [
       "<Figure size 1080x576 with 1 Axes>"
      ]
     },
     "metadata": {
      "needs_background": "light"
     },
     "output_type": "display_data"
    }
   ],
   "source": [
    "plt.figure(figsize=(15,8))\n",
    "sns.histplot(train,x = 'TIT')"
   ]
  },
  {
   "cell_type": "code",
   "execution_count": 26,
   "metadata": {},
   "outputs": [
    {
     "data": {
      "text/plain": [
       "<AxesSubplot:xlabel='AFDP', ylabel='Count'>"
      ]
     },
     "execution_count": 26,
     "metadata": {},
     "output_type": "execute_result"
    },
    {
     "data": {
      "image/png": "[encoded data removed]",
      "text/plain": [
       "<Figure size 1080x576 with 1 Axes>"
      ]
     },
     "metadata": {
      "needs_background": "light"
     },
     "output_type": "display_data"
    }
   ],
   "source": [
    "plt.figure(figsize=(15,8))\n",
    "sns.histplot(train,x = 'AFDP')"
   ]
  },
  {
   "cell_type": "code",
   "execution_count": 27,
   "metadata": {},
   "outputs": [
    {
     "data": {
      "text/plain": [
       "<AxesSubplot:xlabel='GTEP', ylabel='Count'>"
      ]
     },
     "execution_count": 27,
     "metadata": {},
     "output_type": "execute_result"
    },
    {
     "data": {
      "image/png": "[encoded data removed]",
      "text/plain": [
       "<Figure size 1080x576 with 1 Axes>"
      ]
     },
     "metadata": {
      "needs_background": "light"
     },
     "output_type": "display_data"
    }
   ],
   "source": [
    "plt.figure(figsize=(15,8))\n",
    "sns.histplot(train,x = 'GTEP')"
   ]
  },
  {
   "cell_type": "code",
   "execution_count": 28,
   "metadata": {},
   "outputs": [
    {
     "data": {
      "text/plain": [
       "<AxesSubplot:xlabel='GTEP', ylabel='Count'>"
      ]
     },
     "execution_count": 28,
     "metadata": {},
     "output_type": "execute_result"
    },
    {
     "data": {
      "image/png": "[encoded data removed]",
      "text/plain": [
       "<Figure size 1080x576 with 1 Axes>"
      ]
     },
     "metadata": {
      "needs_background": "light"
     },
     "output_type": "display_data"
    }
   ],
   "source": [
    "plt.figure(figsize=(15,8))\n",
    "sns.histplot(train,x = 'GTEP')"
   ]
  },
  {
   "cell_type": "code",
   "execution_count": 29,
   "metadata": {},
   "outputs": [
    {
     "data": {
      "text/plain": [
       "<AxesSubplot:xlabel='TEY', ylabel='Count'>"
      ]
     },
     "execution_count": 29,
     "metadata": {},
     "output_type": "execute_result"
    },
    {
     "data": {
      "image/png": "[encoded data removed]",
      "text/plain": [
       "<Figure size 1080x576 with 1 Axes>"
      ]
     },
     "metadata": {
      "needs_background": "light"
     },
     "output_type": "display_data"
    }
   ],
   "source": [
    "plt.figure(figsize=(15,8))\n",
    "sns.histplot(train,x = 'TEY')"
   ]
  },
  {
   "cell_type": "code",
   "execution_count": 30,
   "metadata": {},
   "outputs": [
    {
     "data": {
      "text/plain": [
       "<AxesSubplot:xlabel='CDP', ylabel='Count'>"
      ]
     },
     "execution_count": 30,
     "metadata": {},
     "output_type": "execute_result"
    },
    {
     "data": {
      "image/png": "[encoded data removed]",
      "text/plain": [
       "<Figure size 1080x576 with 1 Axes>"
      ]
     },
     "metadata": {
      "needs_background": "light"
     },
     "output_type": "display_data"
    }
   ],
   "source": [
    "plt.figure(figsize=(15,8))\n",
    "sns.histplot(train,x = 'CDP')"
   ]
  },
  {
   "cell_type": "code",
   "execution_count": 31,
   "metadata": {
    "scrolled": false
   },
   "outputs": [
    {
     "data": {
      "text/plain": [
       "<AxesSubplot:xlabel='TAT', ylabel='Count'>"
      ]
     },
     "execution_count": 31,
     "metadata": {},
     "output_type": "execute_result"
    },
    {
     "data": {
      "image/png": "[encoded data removed]",
      "text/plain": [
       "<Figure size 1080x576 with 1 Axes>"
      ]
     },
     "metadata": {
      "needs_background": "light"
     },
     "output_type": "display_data"
    }
   ],
   "source": [
    "plt.figure(figsize=(15,8))\n",
    "sns.histplot(train,x = 'TAT')"
   ]
  },
  {
   "cell_type": "code",
   "execution_count": 32,
   "metadata": {},
   "outputs": [
    {
     "data": {
      "text/html": [
       "<div>\n",
       "<style scoped>\n",
       "    .dataframe tbody tr th:only-of-type {\n",
       "        vertical-align: middle;\n",
       "    }\n",
       "\n",
       "    .dataframe tbody tr th {\n",
       "        vertical-align: top;\n",
       "    }\n",
       "\n",
       "    .dataframe thead th {\n",
       "        text-align: right;\n",
       "    }\n",
       "</style>\n",
       "<table border=\"1\" class=\"dataframe\">\n",
       "  <thead>\n",
       "    <tr style=\"text-align: right;\">\n",
       "      <th></th>\n",
       "      <th>AT</th>\n",
       "      <th>AP</th>\n",
       "      <th>AH</th>\n",
       "      <th>AFDP</th>\n",
       "      <th>GTEP</th>\n",
       "      <th>TIT</th>\n",
       "      <th>TAT</th>\n",
       "      <th>TEY</th>\n",
       "      <th>CDP</th>\n",
       "      <th>CO</th>\n",
       "      <th>NOX</th>\n",
       "    </tr>\n",
       "  </thead>\n",
       "  <tbody>\n",
       "    <tr>\n",
       "      <th>AT</th>\n",
       "      <td>1.000000</td>\n",
       "      <td>-0.354392</td>\n",
       "      <td>-0.563459</td>\n",
       "      <td>0.112448</td>\n",
       "      <td>-0.046755</td>\n",
       "      <td>0.099422</td>\n",
       "      <td>0.336315</td>\n",
       "      <td>-0.193230</td>\n",
       "      <td>-0.090231</td>\n",
       "      <td>-0.110304</td>\n",
       "      <td>-0.589204</td>\n",
       "    </tr>\n",
       "    <tr>\n",
       "      <th>AP</th>\n",
       "      <td>-0.354392</td>\n",
       "      <td>1.000000</td>\n",
       "      <td>0.018595</td>\n",
       "      <td>0.058140</td>\n",
       "      <td>0.123358</td>\n",
       "      <td>0.078647</td>\n",
       "      <td>-0.228463</td>\n",
       "      <td>0.177044</td>\n",
       "      <td>0.166870</td>\n",
       "      <td>-0.021856</td>\n",
       "      <td>0.192186</td>\n",
       "    </tr>\n",
       "    <tr>\n",
       "      <th>AH</th>\n",
       "      <td>-0.563459</td>\n",
       "      <td>0.018595</td>\n",
       "      <td>1.000000</td>\n",
       "      <td>-0.243702</td>\n",
       "      <td>-0.199351</td>\n",
       "      <td>-0.251107</td>\n",
       "      <td>0.010075</td>\n",
       "      <td>-0.114338</td>\n",
       "      <td>-0.183888</td>\n",
       "      <td>0.197972</td>\n",
       "      <td>0.159822</td>\n",
       "    </tr>\n",
       "    <tr>\n",
       "      <th>AFDP</th>\n",
       "      <td>0.112448</td>\n",
       "      <td>0.058140</td>\n",
       "      <td>-0.243702</td>\n",
       "      <td>1.000000</td>\n",
       "      <td>0.682370</td>\n",
       "      <td>0.622600</td>\n",
       "      <td>-0.477653</td>\n",
       "      <td>0.644780</td>\n",
       "      <td>0.673072</td>\n",
       "      <td>-0.408425</td>\n",
       "      <td>-0.180187</td>\n",
       "    </tr>\n",
       "    <tr>\n",
       "      <th>GTEP</th>\n",
       "      <td>-0.046755</td>\n",
       "      <td>0.123358</td>\n",
       "      <td>-0.199351</td>\n",
       "      <td>0.682370</td>\n",
       "      <td>1.000000</td>\n",
       "      <td>0.881875</td>\n",
       "      <td>-0.760267</td>\n",
       "      <td>0.978357</td>\n",
       "      <td>0.994361</td>\n",
       "      <td>-0.552922</td>\n",
       "      <td>-0.143650</td>\n",
       "    </tr>\n",
       "    <tr>\n",
       "      <th>TIT</th>\n",
       "      <td>0.099422</td>\n",
       "      <td>0.078647</td>\n",
       "      <td>-0.251107</td>\n",
       "      <td>0.622600</td>\n",
       "      <td>0.881875</td>\n",
       "      <td>1.000000</td>\n",
       "      <td>-0.375879</td>\n",
       "      <td>0.900624</td>\n",
       "      <td>0.896039</td>\n",
       "      <td>-0.728982</td>\n",
       "      <td>-0.195596</td>\n",
       "    </tr>\n",
       "    <tr>\n",
       "      <th>TAT</th>\n",
       "      <td>0.336315</td>\n",
       "      <td>-0.228463</td>\n",
       "      <td>0.010075</td>\n",
       "      <td>-0.477653</td>\n",
       "      <td>-0.760267</td>\n",
       "      <td>-0.375879</td>\n",
       "      <td>1.000000</td>\n",
       "      <td>-0.720048</td>\n",
       "      <td>-0.745111</td>\n",
       "      <td>0.095317</td>\n",
       "      <td>-0.051954</td>\n",
       "    </tr>\n",
       "    <tr>\n",
       "      <th>TEY</th>\n",
       "      <td>-0.193230</td>\n",
       "      <td>0.177044</td>\n",
       "      <td>-0.114338</td>\n",
       "      <td>0.644780</td>\n",
       "      <td>0.978357</td>\n",
       "      <td>0.900624</td>\n",
       "      <td>-0.720048</td>\n",
       "      <td>1.000000</td>\n",
       "      <td>0.989150</td>\n",
       "      <td>-0.586477</td>\n",
       "      <td>-0.055082</td>\n",
       "    </tr>\n",
       "    <tr>\n",
       "      <th>CDP</th>\n",
       "      <td>-0.090231</td>\n",
       "      <td>0.166870</td>\n",
       "      <td>-0.183888</td>\n",
       "      <td>0.673072</td>\n",
       "      <td>0.994361</td>\n",
       "      <td>0.896039</td>\n",
       "      <td>-0.745111</td>\n",
       "      <td>0.989150</td>\n",
       "      <td>1.000000</td>\n",
       "      <td>-0.567705</td>\n",
       "      <td>-0.113780</td>\n",
       "    </tr>\n",
       "    <tr>\n",
       "      <th>CO</th>\n",
       "      <td>-0.110304</td>\n",
       "      <td>-0.021856</td>\n",
       "      <td>0.197972</td>\n",
       "      <td>-0.408425</td>\n",
       "      <td>-0.552922</td>\n",
       "      <td>-0.728982</td>\n",
       "      <td>0.095317</td>\n",
       "      <td>-0.586477</td>\n",
       "      <td>-0.567705</td>\n",
       "      <td>1.000000</td>\n",
       "      <td>0.341552</td>\n",
       "    </tr>\n",
       "    <tr>\n",
       "      <th>NOX</th>\n",
       "      <td>-0.589204</td>\n",
       "      <td>0.192186</td>\n",
       "      <td>0.159822</td>\n",
       "      <td>-0.180187</td>\n",
       "      <td>-0.143650</td>\n",
       "      <td>-0.195596</td>\n",
       "      <td>-0.051954</td>\n",
       "      <td>-0.055082</td>\n",
       "      <td>-0.113780</td>\n",
       "      <td>0.341552</td>\n",
       "      <td>1.000000</td>\n",
       "    </tr>\n",
       "  </tbody>\n",
       "</table>\n",
       "</div>"
      ],
      "text/plain": [
       "            AT        AP        AH      AFDP      GTEP       TIT       TAT  \\\n",
       "AT    1.000000 -0.354392 -0.563459  0.112448 -0.046755  0.099422  0.336315   \n",
       "AP   -0.354392  1.000000  0.018595  0.058140  0.123358  0.078647 -0.228463   \n",
       "AH   -0.563459  0.018595  1.000000 -0.243702 -0.199351 -0.251107  0.010075   \n",
       "AFDP  0.112448  0.058140 -0.243702  1.000000  0.682370  0.622600 -0.477653   \n",
       "GTEP -0.046755  0.123358 -0.199351  0.682370  1.000000  0.881875 -0.760267   \n",
       "TIT   0.099422  0.078647 -0.251107  0.622600  0.881875  1.000000 -0.375879   \n",
       "TAT   0.336315 -0.228463  0.010075 -0.477653 -0.760267 -0.375879  1.000000   \n",
       "TEY  -0.193230  0.177044 -0.114338  0.644780  0.978357  0.900624 -0.720048   \n",
       "CDP  -0.090231  0.166870 -0.183888  0.673072  0.994361  0.896039 -0.745111   \n",
       "CO   -0.110304 -0.021856  0.197972 -0.408425 -0.552922 -0.728982  0.095317   \n",
       "NOX  -0.589204  0.192186  0.159822 -0.180187 -0.143650 -0.195596 -0.051954   \n",
       "\n",
       "           TEY       CDP        CO       NOX  \n",
       "AT   -0.193230 -0.090231 -0.110304 -0.589204  \n",
       "AP    0.177044  0.166870 -0.021856  0.192186  \n",
       "AH   -0.114338 -0.183888  0.197972  0.159822  \n",
       "AFDP  0.644780  0.673072 -0.408425 -0.180187  \n",
       "GTEP  0.978357  0.994361 -0.552922 -0.143650  \n",
       "TIT   0.900624  0.896039 -0.728982 -0.195596  \n",
       "TAT  -0.720048 -0.745111  0.095317 -0.051954  \n",
       "TEY   1.000000  0.989150 -0.586477 -0.055082  \n",
       "CDP   0.989150  1.000000 -0.567705 -0.113780  \n",
       "CO   -0.586477 -0.567705  1.000000  0.341552  \n",
       "NOX  -0.055082 -0.113780  0.341552  1.000000  "
      ]
     },
     "execution_count": 32,
     "metadata": {},
     "output_type": "execute_result"
    }
   ],
   "source": [
    "train.corr()"
   ]
  },
  {
   "cell_type": "code",
   "execution_count": 33,
   "metadata": {
    "scrolled": false
   },
   "outputs": [
    {
     "data": {
      "text/plain": [
       "<AxesSubplot:>"
      ]
     },
     "execution_count": 33,
     "metadata": {},
     "output_type": "execute_result"
    },
    {
     "data": {
      "image/png": "[encoded data removed]",
      "text/plain": [
       "<Figure size 864x576 with 2 Axes>"
      ]
     },
     "metadata": {
      "needs_background": "light"
     },
     "output_type": "display_data"
    }
   ],
   "source": [
    "plt.figure(figsize=(12,8))\n",
    "sns.heatmap(train.corr(),annot=True)\n"
   ]
  },
  {
   "cell_type": "code",
   "execution_count": 34,
   "metadata": {},
   "outputs": [],
   "source": [
    "train_co=train.drop(['NOX'],axis = 1)\n",
    "x_co=train_co.drop(['AP','TAT','CO'],axis=1)\n",
    "y_co=train_co.iloc[:,-1]"
   ]
  },
  {
   "cell_type": "code",
   "execution_count": 35,
   "metadata": {},
   "outputs": [],
   "source": [
    "from sklearn.model_selection import train_test_split\n",
    "x_co_train, x_co_test, y_co_train, y_co_test = train_test_split(x_co, y_co, test_size = 1/3, random_state = 0)"
   ]
  },
  {
   "cell_type": "code",
   "execution_count": 36,
   "metadata": {},
   "outputs": [],
   "source": [
    "#fitting the linear regression model to the dataset\n",
    "#from sklearn.linear_model import LinearRegression\n",
    "#lin_reg=LinearRegression()\n",
    "#lin_reg.fit(x_co_train,y_co_train)"
   ]
  },
  {
   "cell_type": "code",
   "execution_count": 37,
   "metadata": {
    "scrolled": true
   },
   "outputs": [],
   "source": [
    "#print(lin_reg.coef_)"
   ]
  },
  {
   "cell_type": "code",
   "execution_count": 38,
   "metadata": {},
   "outputs": [],
   "source": [
    "#prediction = lin_reg.predict(x_co_test)"
   ]
  },
  {
   "cell_type": "code",
   "execution_count": 39,
   "metadata": {},
   "outputs": [],
   "source": [
    "from sklearn import metrics\n",
    "#metrics.mean_squared_error(y_co_test,prediction)"
   ]
  },
  {
   "cell_type": "code",
   "execution_count": 40,
   "metadata": {},
   "outputs": [],
   "source": [
    "#np.sqrt(metrics.mean_squared_error(y_co_test,prediction))"
   ]
  },
  {
   "cell_type": "code",
   "execution_count": 41,
   "metadata": {},
   "outputs": [],
   "source": [
    "#from sklearn.metrics import mean_squared_log_error,r2_score\n",
    "#print('r2_score of train data is:',r2_score(y_co_train,lin_reg.predict(x_co_train)))\n",
    "#print('r2_score of test data is:',r2_score(test_price,regressor3.predict(test_data)))"
   ]
  },
  {
   "cell_type": "code",
   "execution_count": 42,
   "metadata": {},
   "outputs": [],
   "source": [
    "from sklearn import ensemble\n",
    "from sklearn.utils import shuffle\n",
    "from sklearn.metrics import mean_squared_error, r2_score"
   ]
  },
  {
   "cell_type": "code",
   "execution_count": 43,
   "metadata": {},
   "outputs": [
    {
     "data": {
      "text/plain": [
       "GradientBoostingRegressor(learning_rate=0.05, max_depth=4)"
      ]
     },
     "execution_count": 43,
     "metadata": {},
     "output_type": "execute_result"
    }
   ],
   "source": [
    "params = {'n_estimators': 100, 'max_depth': 4, 'min_samples_split': 2,\n",
    "          'learning_rate': 0.05, 'loss': 'ls'}\n",
    "clf = ensemble.GradientBoostingRegressor(**params)\n",
    "\n",
    "clf.fit(x_co_train, y_co_train)"
   ]
  },
  {
   "cell_type": "code",
   "execution_count": 44,
   "metadata": {},
   "outputs": [],
   "source": [
    "clf_pred=clf.predict(x_co_test)\n",
    "clf_pred= clf_pred.reshape(-1,1)"
   ]
  },
  {
   "cell_type": "code",
   "execution_count": 45,
   "metadata": {},
   "outputs": [
    {
     "name": "stdout",
     "output_type": "stream",
     "text": [
      "MAE: 0.6015288312757032\n",
      "MSE: 1.6023282327233843\n",
      "RMSE: 1.2658310443038534\n"
     ]
    }
   ],
   "source": [
    "print('MAE:', metrics.mean_absolute_error(y_co_test, clf_pred))\n",
    "print('MSE:', metrics.mean_squared_error(y_co_test, clf_pred))\n",
    "print('RMSE:', np.sqrt(metrics.mean_squared_error(y_co_test, clf_pred)))"
   ]
  },
  {
   "cell_type": "code",
   "execution_count": 48,
   "metadata": {
    "scrolled": true
   },
   "outputs": [
    {
     "ename": "TypeError",
     "evalue": "'numpy.ndarray' object is not callable",
     "output_type": "error",
     "traceback": [
      "\u001b[1;31m---------------------------------------------------------------------------\u001b[0m",
      "\u001b[1;31mTypeError\u001b[0m                                 Traceback (most recent call last)",
      "\u001b[1;32m<ipython-input-48-5a11c938d11d>\u001b[0m in \u001b[0;36m<module>\u001b[1;34m\u001b[0m\n\u001b[1;32m----> 1\u001b[1;33m \u001b[0mprint\u001b[0m\u001b[1;33m(\u001b[0m\u001b[1;34m'r2_score of train data is:'\u001b[0m\u001b[1;33m,\u001b[0m\u001b[0mr2_score\u001b[0m\u001b[1;33m(\u001b[0m\u001b[0my_co_test\u001b[0m\u001b[1;33m,\u001b[0m\u001b[0mclf_pred\u001b[0m\u001b[1;33m(\u001b[0m\u001b[0mx_co_test\u001b[0m\u001b[1;33m)\u001b[0m\u001b[1;33m)\u001b[0m\u001b[1;33m)\u001b[0m\u001b[1;33m\u001b[0m\u001b[1;33m\u001b[0m\u001b[0m\n\u001b[0m",
      "\u001b[1;31mTypeError\u001b[0m: 'numpy.ndarray' object is not callable"
     ]
    }
   ],
   "source": [
    "print('r2_score of train data is:',r2_score(y_co_test,clf_pred(x_co_test)))"
   ]
  },
  {
   "cell_type": "code",
   "execution_count": null,
   "metadata": {},
   "outputs": [],
   "source": []
  }
 ],
 "metadata": {
  "kernelspec": {
   "display_name": "Python 3",
   "language": "python",
   "name": "python3"
  },
  "language_info": {
   "codemirror_mode": {
    "name": "ipython",
    "version": 3
   },
   "file_extension": ".py",
   "mimetype": "text/x-python",
   "name": "python",
   "nbconvert_exporter": "python",
   "pygments_lexer": "ipython3",
   "version": "3.8.5"
  }
 },
 "nbformat": 4,
 "nbformat_minor": 4
}
